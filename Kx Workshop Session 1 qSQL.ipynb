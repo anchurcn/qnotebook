{
 "cells": [
  {
   "cell_type": "markdown",
   "metadata": {},
   "source": [
    "**Jupyter notebook**: Place your cursor in each In field and press Shift-Enter to execute it.\n"
   ]
  },
  {
   "cell_type": "code",
   "execution_count": null,
   "metadata": {
    "autorun": true,
    "init_cell": true,
    "jupyter": {
     "source_hidden": true
    }
   },
   "outputs": [],
   "source": [
    "system\"cd \",getenv[`HOME],\"/course-introductory-workshop\"\n",
    ".trn.nbdir:system\"cd\"\n",
    "\\l scripts/loaddata.q"
   ]
  },
  {
   "cell_type": "markdown",
   "metadata": {},
   "source": [
    "**Learning objectives** \n",
    "\n",
    "To understand:\n",
    "* How to construct a qSQL query\n",
    "* How to assign a variable\n",
    "* Useful inbuilt aggregations \n",
    "* Grouping with by\n",
    "* Using `fby` to avoid nested queries\n",
    "* Updating existing data \n",
    "* Temporal arithmetic "
   ]
  },
  {
   "cell_type": "markdown",
   "metadata": {},
   "source": [
    "# Data overview\n",
    "\n",
    "The taxi database details cab fares in New York City. The data was provided from the\n",
    "[NYC Taxi & Limousine Commission](https://www1.nyc.gov/site/tlc/about/tlc-trip-record-data.page).\n",
    "\n",
    "The database we have loaded contains trip data starting at January 1st, 2009 until March 31st, 2009. The\n",
    "database contains 6.9 million records and occupies 6Gb on disk with no compression. \n",
    "\n",
    "The taxi database is stored in a table called `trips`. To supplement the data, there is an additional New York City weather dataset called `weather`. This data was collected by the  [National Oceanic and Atmospheric Administration](https://www.noaa.gov) and distributed by the \n",
    "[National Climate and Data Center](https://www.ncdc.noaa.gov). The weather dataset contains daily\n",
    "summaries for January 2009 from 187 distinct weather stations surrounding New York City."
   ]
  },
  {
   "cell_type": "markdown",
   "metadata": {},
   "source": [
    "# Data exploration"
   ]
  },
  {
   "cell_type": "markdown",
   "metadata": {},
   "source": [
    "Tables form the core of Kx technology. Here we will go through how to access tables and examine their contents.\n",
    "\n",
    "See what tables are currently in the database:"
   ]
  },
  {
   "cell_type": "code",
   "execution_count": null,
   "metadata": {},
   "outputs": [],
   "source": [
    "tables[]"
   ]
  },
  {
   "cell_type": "markdown",
   "metadata": {},
   "source": [
    "Inspect a table by typing its name."
   ]
  },
  {
   "cell_type": "code",
   "execution_count": null,
   "metadata": {},
   "outputs": [],
   "source": [
    "smalltrips"
   ]
  },
  {
   "cell_type": "markdown",
   "metadata": {},
   "source": [
    "It is very easy to interrogate the kdb+/q process to get information from the process about the size and shape of the tables.\n",
    "\n",
    "We can see how many records are in the table, by using [`count`](https://code.kx.com/q/ref/count).\n",
    "\n",
    "We can also inspect the schema of `trips` with [`meta`](https://code.kx.com/q/ref/meta), obtaining a table of available columns and their types and other information. The following columns are produced:\n",
    "\n",
    "- `c`: column name\n",
    "- `t`: column [type](https://code.kx.com/q/ref/#datatypes)\n",
    "- `f`: [foreign keys](https://code.kx.com/q/wp/foreign-keys/)\n",
    "- `a`: [attributes](https://code.kx.com/q/basics/syntax/#attributes): modifiers applied for performance characteristics"
   ]
  },
  {
   "cell_type": "code",
   "execution_count": null,
   "metadata": {},
   "outputs": [],
   "source": [
    "count trips\n",
    "meta trips"
   ]
  },
  {
   "cell_type": "markdown",
   "metadata": {},
   "source": [
    "# qSQL\n",
    "\n",
    "If you have used SQL, you will find the syntax of qSQL queries very similar."
   ]
  },
  {
   "cell_type": "markdown",
   "metadata": {},
   "source": [
    " <img src=\"images/qbies.png\" width=\"50px\" align=\"left\"/><p style='color:#273a6e'><i> Here qSQL is like SQL but does not require a <code>*</code> to select all columns. </i></p> "
   ]
  },
  {
   "cell_type": "code",
   "execution_count": null,
   "metadata": {},
   "outputs": [],
   "source": [
    "select from smalltrips"
   ]
  },
  {
   "cell_type": "markdown",
   "metadata": {},
   "source": [
    "Get the `vendor`, `pickup_time` and `fare` columns from the entire table."
   ]
  },
  {
   "cell_type": "code",
   "execution_count": null,
   "metadata": {},
   "outputs": [],
   "source": [
    "select vendor, pickup_time, fare from smalltrips"
   ]
  },
  {
   "cell_type": "markdown",
   "metadata": {},
   "source": [
    "The next query extracts a few columns, but also filters on two criteria. Just as in SQL, table results can be filtered by expressions following a `where`. Multiple filter criteria, separated by `,`, are evaluated starting from the left.\n",
    "\n",
    "Get taxi trips from the first day of data where the tip is greater than 20."
   ]
  },
  {
   "cell_type": "markdown",
   "metadata": {},
   "source": [
    " <img src=\"images/qbies.png\" width=\"50px\" align=\"left\"/><p style='color:#273a6e'><i> The first day of data is found by applying aggregation <code>min</code> to the <code>date</code> column, and selecting dates equal to it. <br><br> Q has many aggregations. We shall encounter more later. </i></p> "
   ]
  },
  {
   "cell_type": "code",
   "execution_count": null,
   "metadata": {
    "scrolled": false
   },
   "outputs": [],
   "source": [
    "select date, month, vendor, passengers, fare, tip from trips \n",
    "    where date = min date, tip > 20   "
   ]
  },
  {
   "cell_type": "markdown",
   "metadata": {},
   "source": [
    "**Structure of kdb+ database**"
   ]
  },
  {
   "cell_type": "markdown",
   "metadata": {},
   "source": [
    "<img src=\"images/DbStructure.png\" width=\"600\" height=\"400\">"
   ]
  },
  {
   "cell_type": "markdown",
   "metadata": {
    "solution2": "hidden",
    "solution2_first": true
   },
   "source": [
    "Which query runs faster?\n",
    "\n",
    "+ 1. ```select date, month, vendor, passengers, fare, tip from trips where date = min date, tip > 20```\n",
    "\n",
    "+ 2. ```select date, month, vendor, passengers, fare, tip from trips where tip > 20, date = min date```"
   ]
  },
  {
   "cell_type": "markdown",
   "metadata": {
    "solution2": "hidden"
   },
   "source": [
    "(1) runs faster. The `trips` table is a partitioned on the `date` column, which is the first filter in the [Where phrase](https://code.kx.com/q/basics/qsql/#where-phrase). Filtering on the partition column value first minimizes the number of directories to read.\n",
    "\n",
    "We can test this theory with the [`\\ts`](https://code.kx.com/q/basics/syscmds/#ts-time-and-space) system command."
   ]
  },
  {
   "cell_type": "code",
   "execution_count": null,
   "metadata": {
    "solution2": "hidden"
   },
   "outputs": [],
   "source": [
    "\\ts select date, month, vendor, passengers, fare, tip from trips where date = min date, tip > 20\n",
    "\\ts select date, month, vendor, passengers, fare, tip from trips where tip > 20, date = min date"
   ]
  },
  {
   "cell_type": "markdown",
   "metadata": {},
   "source": [
    "Include calculated columns in the result by assignment in the form `column_name : value`."
   ]
  },
  {
   "cell_type": "code",
   "execution_count": null,
   "metadata": {},
   "outputs": [],
   "source": [
    "select duration, total: fare + tip, fare, tip from trips"
   ]
  },
  {
   "cell_type": "markdown",
   "metadata": {},
   "source": [
    "A virtual column `i` maps to a record index in the table. A simple aggregation can be obtained by taking the count of this virtual column."
   ]
  },
  {
   "cell_type": "code",
   "execution_count": null,
   "metadata": {},
   "outputs": [],
   "source": [
    "select count i from trips where date = min date, passengers = 2"
   ]
  },
  {
   "cell_type": "markdown",
   "metadata": {},
   "source": [
    "Further reading:\n",
    "-   [qSQL syntax](https://code.kx.com/q/basics/qsql/)\n",
    "-   [*Q for Mortals* §9: Queries](https://code.kx.com/q4m3/9_Queries_q-sql/)"
   ]
  },
  {
   "cell_type": "markdown",
   "metadata": {},
   "source": [
    "##### Exercise 1"
   ]
  },
  {
   "cell_type": "markdown",
   "metadata": {
    "solution2": "hidden",
    "solution2_first": true
   },
   "source": [
    "- On the earliest date, how many trips had fewer than two passengers?"
   ]
  },
  {
   "cell_type": "code",
   "execution_count": null,
   "metadata": {
    "solution2": "hidden"
   },
   "outputs": [],
   "source": [
    "select count i from trips where date = min date, passengers < 2\n",
    "//alternative way- select count i from trips where date = first date, passengers < 2"
   ]
  },
  {
   "cell_type": "code",
   "execution_count": null,
   "metadata": {},
   "outputs": [],
   "source": [
    "// Enter your qSQL code here "
   ]
  },
  {
   "cell_type": "code",
   "execution_count": null,
   "metadata": {},
   "outputs": [],
   "source": [
    "ex1_a[] //check correct output"
   ]
  },
  {
   "cell_type": "markdown",
   "metadata": {
    "solution2": "hidden",
    "solution2_first": true
   },
   "source": [
    "- What about the last date?"
   ]
  },
  {
   "cell_type": "code",
   "execution_count": null,
   "metadata": {
    "solution2": "hidden"
   },
   "outputs": [],
   "source": [
    "select count i from trips where date = max date, passengers < 2\n",
    "//alternative way- select count i from trips where date = last date, passengers < 2"
   ]
  },
  {
   "cell_type": "code",
   "execution_count": null,
   "metadata": {},
   "outputs": [],
   "source": [
    "// Enter your qSQL code here "
   ]
  },
  {
   "cell_type": "code",
   "execution_count": null,
   "metadata": {},
   "outputs": [],
   "source": [
    "ex1_b[] //check correct output"
   ]
  },
  {
   "cell_type": "markdown",
   "metadata": {
    "solution2": "hidden",
    "solution2_first": true
   },
   "source": [
    "##### Exercise 2\n",
    "- Select `payment_type` and `fare` from the trips data for the first date.\n"
   ]
  },
  {
   "cell_type": "code",
   "execution_count": null,
   "metadata": {
    "solution2": "hidden"
   },
   "outputs": [],
   "source": [
    "select payment_type, fare from trips where date = min date"
   ]
  },
  {
   "cell_type": "code",
   "execution_count": null,
   "metadata": {},
   "outputs": [],
   "source": [
    "// Enter your qSQL code here "
   ]
  },
  {
   "cell_type": "code",
   "execution_count": null,
   "metadata": {},
   "outputs": [],
   "source": [
    "ex2[] //check correct output"
   ]
  },
  {
   "cell_type": "markdown",
   "metadata": {},
   "source": [
    "## Assignment\n",
    "\n",
    "When exploring data, storing intermediate results is useful for avoiding repeated work."
   ]
  },
  {
   "cell_type": "markdown",
   "metadata": {},
   "source": [
    " <img src=\"images/qbies.png\" width=\"50px\" align=\"left\"/><p style='color:#273a6e'><i> In q, assignment is denoted by <code>:</code>.<br><br>The equal sign <code>=</code> retains its traditional meaning of testing for equality. </i></p>"
   ]
  },
  {
   "cell_type": "markdown",
   "metadata": {},
   "source": [
    "Create a new variable as follows:\n",
    "\n",
    "```\n",
    "var_name: expression\n",
    "```\n",
    "\n",
    "In order to take a closer look at only the data corresponding to January 2009, we can select the data from trips and store the resulting table in a variable called `jan09`."
   ]
  },
  {
   "cell_type": "code",
   "execution_count": null,
   "metadata": {},
   "outputs": [],
   "source": [
    "// Use keyword 'within' to filter the date\n",
    "jan09:select from trips where date within 2009.01.10 2009.01.31\n",
    "\n",
    "// Check how many records are in the filtered table\n",
    "count jan09"
   ]
  },
  {
   "cell_type": "markdown",
   "metadata": {},
   "source": [
    " <img src=\"images/qbies.png\" width=\"50px\" align=\"left\"/><p style='color:#273a6e'><i> By making this assignment, the new variable <code>jan09</code> is stored in memory. <br><br> This is true whether the source data was also in memory or stored on disk. </i></p>"
   ]
  },
  {
   "cell_type": "markdown",
   "metadata": {
    "solution2": "hidden",
    "solution2_first": true
   },
   "source": [
    "##### Exercise 3\n",
    "\n",
    "+ Assign the result of Exercise 2 to a variable called `res2`"
   ]
  },
  {
   "cell_type": "code",
   "execution_count": null,
   "metadata": {
    "solution2": "hidden"
   },
   "outputs": [],
   "source": [
    "res2:select payment_type, fare from trips where date = min date;"
   ]
  },
  {
   "cell_type": "code",
   "execution_count": null,
   "metadata": {},
   "outputs": [],
   "source": [
    "// Enter your qSQL code here "
   ]
  },
  {
   "cell_type": "code",
   "execution_count": null,
   "metadata": {},
   "outputs": [],
   "source": [
    "ex3[] //check correct output"
   ]
  },
  {
   "cell_type": "markdown",
   "metadata": {},
   "source": [
    "## Aggregations\n",
    "\n",
    "With the filtered data in `jan09`, aggregations and other analytics can be run without performing the filter query again. Below is a simple aggregation returning the sum of both the `fare` and `tip` columns. "
   ]
  },
  {
   "cell_type": "code",
   "execution_count": null,
   "metadata": {},
   "outputs": [],
   "source": [
    "select sum fare, sum tip from jan09"
   ]
  },
  {
   "cell_type": "markdown",
   "metadata": {},
   "source": [
    "[`sum`](https://code.kx.com/q/ref/sum/) is one of many built-in aggregations. Other built-in aggregations include, but are not limited to\n",
    "\n",
    "- [`avg`](https://code.kx.com/q/ref/avg/#avg) - average (mean)\n",
    "- [`med`](https://code.kx.com/q/ref/med/) - median\n",
    "- [`min`](https://code.kx.com/q/ref/min/) - minimum value\n",
    "- [`max`](https://code.kx.com/q/ref/max/) - maximum value\n",
    "- [`count`](https://code.kx.com/q/ref/count/) - number of values\n",
    "\n",
    "Reference: [Mathematics and statistics](https://code.kx.com/q/basics/math/)"
   ]
  },
  {
   "cell_type": "markdown",
   "metadata": {
    "solution2": "hidden",
    "solution2_first": true
   },
   "source": [
    "##### Exercise 4\n",
    "- Calculate the minimum and maximum tip from the `jan09` table.\n"
   ]
  },
  {
   "cell_type": "code",
   "execution_count": null,
   "metadata": {
    "solution2": "hidden"
   },
   "outputs": [],
   "source": [
    "// maximum tip and minimum tip\n",
    "select maxTip:max tip, minTip:min tip from jan09"
   ]
  },
  {
   "cell_type": "code",
   "execution_count": null,
   "metadata": {},
   "outputs": [],
   "source": [
    "// Enter your qSQL code here "
   ]
  },
  {
   "cell_type": "code",
   "execution_count": null,
   "metadata": {},
   "outputs": [],
   "source": [
    "ex4[] //check correct output"
   ]
  },
  {
   "cell_type": "markdown",
   "metadata": {},
   "source": [
    "## Grouping with `by` \n",
    "\n",
    "Unlike SQL, qSQL lets you group and aggregate separately.\n",
    "The easiest way to group similar values together is to use the `by` clause.\n",
    "\n",
    "When used without an aggregation, `by` returns a list of values from the selected column. List types are completely valid types in q, so this fine."
   ]
  },
  {
   "cell_type": "code",
   "execution_count": null,
   "metadata": {},
   "outputs": [],
   "source": [
    "select fare by vendor from jan09"
   ]
  },
  {
   "cell_type": "markdown",
   "metadata": {},
   "source": [
    "To extract some useful insight from the data, grouping is best used with aggregation functions as shown below:"
   ]
  },
  {
   "cell_type": "code",
   "execution_count": null,
   "metadata": {},
   "outputs": [],
   "source": [
    "select sum fare, sum tip by vendor from jan09"
   ]
  },
  {
   "cell_type": "code",
   "execution_count": null,
   "metadata": {},
   "outputs": [],
   "source": [
    "// Get the number of records per day in the filtered table\n",
    "select count i by date from jan09"
   ]
  },
  {
   "cell_type": "markdown",
   "metadata": {
    "solution2": "hidden",
    "solution2_first": true
   },
   "source": [
    "##### Exercise 5\n",
    "- What is the biggest tip for each company?"
   ]
  },
  {
   "cell_type": "code",
   "execution_count": null,
   "metadata": {
    "solution2": "hidden"
   },
   "outputs": [],
   "source": [
    "select max tip by vendor from jan09"
   ]
  },
  {
   "cell_type": "code",
   "execution_count": null,
   "metadata": {},
   "outputs": [],
   "source": [
    "// Enter your qSQL code here "
   ]
  },
  {
   "cell_type": "code",
   "execution_count": null,
   "metadata": {},
   "outputs": [],
   "source": [
    "ex5[] //check correct output"
   ]
  },
  {
   "cell_type": "markdown",
   "metadata": {
    "solution2": "hidden",
    "solution2_first": true
   },
   "source": [
    "##### Exercise 6 \n",
    "- What is the highest tip and average tip per payment_type?"
   ]
  },
  {
   "cell_type": "code",
   "execution_count": null,
   "metadata": {
    "solution2": "hidden"
   },
   "outputs": [],
   "source": [
    "select maxTip:max tip, avgTip:avg tip by payment_type from jan09"
   ]
  },
  {
   "cell_type": "code",
   "execution_count": null,
   "metadata": {},
   "outputs": [],
   "source": [
    "// Enter your qSQL code here "
   ]
  },
  {
   "cell_type": "code",
   "execution_count": null,
   "metadata": {},
   "outputs": [],
   "source": [
    "ex6[] //check correct output"
   ]
  },
  {
   "cell_type": "markdown",
   "metadata": {},
   "source": [
    "## Using `fby` to avoid nested queries\n",
    "\n",
    "Nested queries are commonly required in SQL where filter criteria require aggregations in the context of some other column. For example, getting all records where the ride duration is less than the average for that taxi’s vendor."
   ]
  },
  {
   "cell_type": "markdown",
   "metadata": {},
   "source": [
    "In SQL  we would first get the average duration for each vendor; then perform a query for each duration and vendor:"
   ]
  },
  {
   "cell_type": "code",
   "execution_count": null,
   "metadata": {},
   "outputs": [],
   "source": [
    "// Get the average duration per vendor and save resulting table in a variable\n",
    "resBy: select avgDuration:avg duration by vendor from jan09"
   ]
  },
  {
   "cell_type": "code",
   "execution_count": null,
   "metadata": {},
   "outputs": [],
   "source": [
    "// Using 'lj' to join the average duration column to our table\n",
    "// Don't worry about this now, joins are discussed in a later section\n",
    "select from jan09 lj resBy where duration < avgDuration"
   ]
  },
  {
   "cell_type": "markdown",
   "metadata": {},
   "source": [
    "In q, this can be simply expressed using [`fby`](https://code.kx.com/q/ref/fby/).\n",
    "\n",
    "The syntax of `fby` is `(aggregation;data) fby group`, as query below. Compare the above statement to how it was done without `fby`."
   ]
  },
  {
   "cell_type": "code",
   "execution_count": null,
   "metadata": {},
   "outputs": [],
   "source": [
    "select max fare from jan09 where duration < (avg;duration) fby vendor"
   ]
  },
  {
   "cell_type": "markdown",
   "metadata": {},
   "source": [
    "You can see how much simpler an `fby` clause is compared to the above statements."
   ]
  },
  {
   "cell_type": "markdown",
   "metadata": {},
   "source": [
    "##### Exercise 7 "
   ]
  },
  {
   "cell_type": "markdown",
   "metadata": {
    "solution2": "hidden",
    "solution2_first": true
   },
   "source": [
    "- Which payment type produces the highest average tip when only trips with a fare larger than the average for each vendor is considered?"
   ]
  },
  {
   "cell_type": "code",
   "execution_count": null,
   "metadata": {
    "solution2": "hidden"
   },
   "outputs": [],
   "source": [
    "res7a:select avg tip by payment_type from jan09 where fare > (avg;fare) fby vendor;\n",
    "show res7a;\n",
    "select payment_type from res7a where tip = max tip "
   ]
  },
  {
   "cell_type": "code",
   "execution_count": null,
   "metadata": {},
   "outputs": [],
   "source": [
    "// Enter your qSQL code here "
   ]
  },
  {
   "cell_type": "code",
   "execution_count": null,
   "metadata": {},
   "outputs": [],
   "source": [
    "ex7_a[] //check correct output"
   ]
  },
  {
   "cell_type": "markdown",
   "metadata": {
    "solution2": "hidden",
    "solution2_first": true
   },
   "source": [
    "- Which vendor has the largest number of trips when only considering trips shorter than the average duration for each vendor?"
   ]
  },
  {
   "cell_type": "code",
   "execution_count": null,
   "metadata": {
    "solution2": "hidden"
   },
   "outputs": [],
   "source": [
    "res7b:select count i by vendor from jan09 where duration < (avg;duration) fby vendor;\n",
    "show res7b;\n",
    "select vendor from res7b where x = max x"
   ]
  },
  {
   "cell_type": "code",
   "execution_count": null,
   "metadata": {},
   "outputs": [],
   "source": [
    "// Enter your qSQL code here "
   ]
  },
  {
   "cell_type": "code",
   "execution_count": null,
   "metadata": {},
   "outputs": [],
   "source": [
    "ex7_b[] //check correct output"
   ]
  },
  {
   "cell_type": "markdown",
   "metadata": {},
   "source": [
    "## Updating existing data\n",
    "\n",
    "When exploring, you often need to fix bad data, whether from incorrect entry, incompatible units of measure, or other reasons. \n",
    "\n",
    "If we inspect the data and look at the maximum passengers for each vendor, the maximum number for 2 vendors is 6."
   ]
  },
  {
   "cell_type": "code",
   "execution_count": null,
   "metadata": {},
   "outputs": [],
   "source": [
    "select max passengers by vendor from jan09"
   ]
  },
  {
   "cell_type": "markdown",
   "metadata": {},
   "source": [
    "If the above data is wrong, it can be fixed using `update` to change the data. Below, the passengers column is set to the value `5` in any entry where the passenger count is greater than 5. This is then assigned back to `jan09`."
   ]
  },
  {
   "cell_type": "code",
   "execution_count": null,
   "metadata": {},
   "outputs": [],
   "source": [
    "// Find all records where the number of passengers is greater than 5\n",
    "select from jan09 where passengers > 5"
   ]
  },
  {
   "cell_type": "code",
   "execution_count": null,
   "metadata": {},
   "outputs": [],
   "source": [
    "// Update maximum number of passengers to be 5 \n",
    "// Save changes by reassigning back to jan09\n",
    "jan09: update passengers: 5 from jan09 where passengers > 5"
   ]
  },
  {
   "cell_type": "code",
   "execution_count": null,
   "metadata": {},
   "outputs": [],
   "source": [
    "jan09"
   ]
  },
  {
   "cell_type": "markdown",
   "metadata": {},
   "source": [
    "Observe below that the maximum passengers reported has now been updated."
   ]
  },
  {
   "cell_type": "code",
   "execution_count": null,
   "metadata": {},
   "outputs": [],
   "source": [
    "select max passengers by vendor from jan09"
   ]
  },
  {
   "cell_type": "markdown",
   "metadata": {},
   "source": [
    "Now that we have updated the table, we can add a column with the weighted average fare per passenger:"
   ]
  },
  {
   "cell_type": "code",
   "execution_count": null,
   "metadata": {},
   "outputs": [],
   "source": [
    "jan09:update wAvgfare:passengers wavg fare from jan09\n",
    "meta jan09 //new column has been added to the end of the table"
   ]
  },
  {
   "cell_type": "markdown",
   "metadata": {},
   "source": [
    "We also see a few trips that didn't take place: no recorded duration. Let’s delete these rows:"
   ]
  },
  {
   "cell_type": "code",
   "execution_count": null,
   "metadata": {},
   "outputs": [],
   "source": [
    "count jan09  //number of records before deleting rows\n",
    "jan09:delete from jan09 where duration=00:00:00.000\n",
    "count jan09  //number of records after deleteing rows "
   ]
  },
  {
   "cell_type": "markdown",
   "metadata": {},
   "source": [
    "## Temporal Arithmetic\n",
    "\n",
    "Q supports several temporal types and arithmetic between them. Writing queries involving time is simple.  \n",
    "\n",
    "See [here](https://code.kx.com/q/ref/#datatypes) for a summary of [`datatypes`](https://code.kx.com/q/ref/#datatypes)\n",
    "\n",
    "The `pickup_time` column in the data has a type of *timestamp*.\n",
    "As an example, we could convert the `pickup_time` values to their `minute` values (including hours and minutes), and group the data based on this time frame."
   ]
  },
  {
   "cell_type": "code",
   "execution_count": null,
   "metadata": {},
   "outputs": [],
   "source": [
    "select pickup_time, pickup_time.second, pickup_time.minute, pickup_time.hh from jan09"
   ]
  },
  {
   "cell_type": "markdown",
   "metadata": {},
   "source": [
    " <img src=\"images/qbies.png\" width=\"50px\" align=\"left\"/><p style='color:#273a6e'><i> The query below returns the total money made each minute by cabs in January. <br><br> Observe the following expression within the query: <code>sum fare + tip</code> </i></p>"
   ]
  },
  {
   "cell_type": "markdown",
   "metadata": {},
   "source": [
    "This expression highlights an important feature of q syntax: **evaluation is from right-to-left**. The argument of `sum` is everything to its right, that is `fare` plus `tip. This simple rule holds everywhere; there are no priorities to remember."
   ]
  },
  {
   "cell_type": "code",
   "execution_count": null,
   "metadata": {},
   "outputs": [],
   "source": [
    "select total:sum fare + tip by pickup_time.minute from jan09"
   ]
  },
  {
   "cell_type": "code",
   "execution_count": null,
   "metadata": {},
   "outputs": [],
   "source": [
    "select total:(sum fare) + tip by pickup_time.minute from jan09 "
   ]
  },
  {
   "cell_type": "markdown",
   "metadata": {},
   "source": [
    "Aggregate further on time by using `xbar` to bucket the minutes into hours. Group the minutes into 60-unit buckets to produce hours:"
   ]
  },
  {
   "cell_type": "code",
   "execution_count": null,
   "metadata": {},
   "outputs": [],
   "source": [
    "select count i by 60 xbar pickup_time.minute from jan09 where date = 2009.01.10"
   ]
  },
  {
   "cell_type": "markdown",
   "metadata": {
    "solution2": "hidden",
    "solution2_first": true
   },
   "source": [
    "##### Exercise 8\n",
    "- Show the largest tip for each 15-minute timespan during the month of January."
   ]
  },
  {
   "cell_type": "code",
   "execution_count": null,
   "metadata": {
    "solution2": "hidden"
   },
   "outputs": [],
   "source": [
    "select max tip by 15 xbar pickup_time.minute from jan09"
   ]
  },
  {
   "cell_type": "code",
   "execution_count": null,
   "metadata": {},
   "outputs": [],
   "source": [
    "// Enter your qSQL code here "
   ]
  },
  {
   "cell_type": "code",
   "execution_count": null,
   "metadata": {},
   "outputs": [],
   "source": [
    "ex8_a[] //check correct output"
   ]
  },
  {
   "cell_type": "markdown",
   "metadata": {
    "solution2": "hidden",
    "solution2_first": true
   },
   "source": [
    " - Break this information down by vendor."
   ]
  },
  {
   "cell_type": "code",
   "execution_count": null,
   "metadata": {
    "solution2": "hidden"
   },
   "outputs": [],
   "source": [
    "select max tip by 15 xbar pickup_time.minute,vendor from jan09"
   ]
  },
  {
   "cell_type": "code",
   "execution_count": null,
   "metadata": {},
   "outputs": [],
   "source": [
    "// Enter your qSQL code here "
   ]
  },
  {
   "cell_type": "code",
   "execution_count": null,
   "metadata": {},
   "outputs": [],
   "source": [
    "ex8_b[] //check correct output"
   ]
  }
 ],
 "metadata": {
  "kernelspec": {
   "display_name": "Q (kdb+)",
   "language": "q",
   "name": "qpk"
  },
  "language_info": {
   "file_extension": ".q",
   "mimetype": "text/x-q",
   "name": "q",
   "version": "4.0"
  },
  "latex_envs": {
   "LaTeX_envs_menu_present": true,
   "autoclose": false,
   "autocomplete": true,
   "bibliofile": "biblio.bib",
   "cite_by": "apalike",
   "current_citInitial": 1,
   "eqLabelWithNumbers": true,
   "eqNumInitial": 1,
   "hotkeys": {
    "equation": "Ctrl-E",
    "itemize": "Ctrl-I"
   },
   "labels_anchors": false,
   "latex_user_defs": false,
   "report_style_numbering": false,
   "user_envs_cfg": false
  },
  "toc": {
   "base_numbering": 1,
   "nav_menu": {
    "height": "564px",
    "width": "305px"
   },
   "number_sections": true,
   "sideBar": true,
   "skip_h1_title": false,
   "title_cell": "Table of Contents",
   "title_sidebar": "Contents",
   "toc_cell": false,
   "toc_position": {},
   "toc_section_display": true,
   "toc_window_display": false
  },
  "widgets": {
   "application/vnd.jupyter.widget-state+json": {
    "state": {},
    "version_major": 2,
    "version_minor": 0
   }
  }
 },
 "nbformat": 4,
 "nbformat_minor": 2
}
