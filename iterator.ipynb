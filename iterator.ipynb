{
 "cells": [
  {
   "cell_type": "markdown",
   "id": "316d32e8-cf2d-4815-b171-59f0da21beae",
   "metadata": {},
   "source": [
    "# Iterator\n",
    "迭代词（以前称为副词）是q中迭代的主要手段，在几乎所有情况下都是最有效的迭代方式。循环在q程序中很少见，几乎总是优化的候选者。掌握迭代器是q的核心技能。 本文的第一部分非正式地介绍了迭代器。这提供了对两种主要迭代形式的现成访问：映射和累加器。 本文的第二部分更正式地回顾了迭代器，并更加关注语法。我们看到迭代器如何不仅应用于函数，还应用于列表、字典和表。从它们的语法中，我们可以看到何时需要括号，以及为什么需要。\n",
    "\n",
    "Scan 和 Each 是 accumulator 和 map 迭代器的核心。其他迭代器是它们的变体。\n",
    "\n"
   ]
  },
  {
   "cell_type": "markdown",
   "id": "f73b7d6b-08af-4662-8a89-443c8ddf35ea",
   "metadata": {},
   "source": [
    "## Map\n",
    "\n",
    "| glyph | name          | mnemonic keyword |\n",
    "|-------|---------------|------------------|\n",
    "| '     | Each          | each             |\n",
    "| ':    | Each Parallel | peach            |\n",
    "| \\\\:   | Each Left     |                  |\n",
    "| /:    | Each Right    |                  |\n",
    "| ':    | Each Prior    | prior            |\n",
    "\n",
    "\n",
    "### Select\n",
    "### Each&Zip(each both)\n",
    "each glyph `'` 修饰一元函数的时候具有 Select 语义，修饰二元函数的时候具有 Zip 语义。"
   ]
  },
  {
   "cell_type": "code",
   "execution_count": 13,
   "id": "0053eb3e-4c41-4511-896e-2373a422f133",
   "metadata": {},
   "outputs": [
    {
     "data": {
      "text/plain": [
       "\"a1\"\n",
       "\"b2\"\n",
       "\"c3\"\n"
      ]
     },
     "execution_count": 13,
     "metadata": {},
     "output_type": "execute_result"
    },
    {
     "data": {
      "text/plain": [
       "-7 -11 -10 10h\n"
      ]
     },
     "execution_count": 13,
     "metadata": {},
     "output_type": "execute_result"
    }
   ],
   "source": [
    "/ zip\n",
    "/ the modified binary function(' aka join) by each glyph(') apply\n",
    "/ on two list in infix form.\n",
    "/ that performs the \"zip\" 语义\n",
    "\"abc\" ,' \"123\" / join each (\"abc\" zip with \"123\" via join operator)\n",
    "/ select\n",
    "/ the modified unary function(type) by each glyph(') apply on a list.\n",
    "/ that performs the \"select\" 语义\n",
    "(type') (1;`q;\"c\";\"str\")"
   ]
  },
  {
   "cell_type": "markdown",
   "id": "c434c8f1-be2b-4b76-bbac-1e20fc2e79c1",
   "metadata": {},
   "source": [
    "### Each right & Each left"
   ]
  },
  {
   "cell_type": "code",
   "execution_count": 14,
   "id": "4e8535cd-2c69-4461-8ccd-e6f2d8e0b590",
   "metadata": {},
   "outputs": [
    {
     "data": {
      "text/plain": [
       "\"abc1\"\n",
       "\"abc2\"\n",
       "\"abc3\"\n"
      ]
     },
     "execution_count": 14,
     "metadata": {},
     "output_type": "execute_result"
    },
    {
     "data": {
      "text/plain": [
       "\"abc1\"\n",
       "\"abc2\"\n",
       "\"abc3\"\n"
      ]
     },
     "execution_count": 14,
     "metadata": {},
     "output_type": "execute_result"
    }
   ],
   "source": [
    "\n",
    "/ each right 及其等效表达\n",
    "\"abc\" ,/: \"123\" / join each right\n",
    "(,[\"abc\"]) each \"123\" / projection (,[\"abc\"]) apply for each element in \"123\""
   ]
  },
  {
   "cell_type": "markdown",
   "id": "ad988fc6-ef16-41b9-aa64-6483cc8fcf45",
   "metadata": {},
   "source": [
    "## Scan&Over\n",
    "\n",
    "Scan 返回每一次累积的结果。而 Over 仅返回最后一个累积的结果。"
   ]
  },
  {
   "cell_type": "markdown",
   "id": "fc0c46f3-a9b4-4bf3-8efa-90996df89237",
   "metadata": {},
   "source": [
    "## Each"
   ]
  },
  {
   "cell_type": "markdown",
   "id": "fd4842c9-e0b1-4e3b-a403-12400a403f08",
   "metadata": {
    "tags": []
   },
   "source": [
    "## Zip(')\n"
   ]
  },
  {
   "cell_type": "code",
   "execution_count": null,
   "id": "9857ab53-f79c-4b1b-918e-2fa61ab55bee",
   "metadata": {},
   "outputs": [],
   "source": []
  },
  {
   "cell_type": "code",
   "execution_count": null,
   "id": "851ab8b8-3c3f-4571-acc6-8a04bc27f167",
   "metadata": {},
   "outputs": [],
   "source": []
  }
 ],
 "metadata": {
  "kernelspec": {
   "display_name": "Q (kdb+)",
   "language": "q",
   "name": "qpk"
  },
  "language_info": {
   "file_extension": ".q",
   "mimetype": "text/x-q",
   "name": "q",
   "version": "4.0"
  }
 },
 "nbformat": 4,
 "nbformat_minor": 5
}
